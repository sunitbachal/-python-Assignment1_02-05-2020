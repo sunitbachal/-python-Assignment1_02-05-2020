{
 "cells": [
  {
   "cell_type": "markdown",
   "metadata": {},
   "source": [
    "1. What does an empty dictionary's code look like?\n",
    "    Ans==> d={} or d1=dict()\n",
    "\n",
    "2. What is the value of a dictionary value with the key 'foo'; and the value 42?\n",
    "    Ans==>d.get('foo')\n",
    "\n",
    "3. What is the most significant distinction between a dictionary and a list?\n",
    "    Ans==> dict is key value data stucture and values can be acceseed using keys. List is simple ordered collection which is index based \n",
    "\n",
    "4. What happens if you try to access spam['foo'] if spam is {'bar': 100}?\n",
    "    Ans==>it will throw KeyError\n",
    "\n",
    "5. If a dictionary is stored in spam, what is the difference between the expressions 'cat'; in spam and 'cat' in spam.keys()?\n",
    "    Ans==> both will check existance of key in a dict\n",
    "    \n",
    "6. If a dictionary is stored in spam, what is the difference between the expressions 'cat' in spam and'cat'in spam.values()?\n",
    "    Ans==>  'cat' in spam = will  try  to check cat key is present in spam dict\n",
    "            'cat' in spam.values() = will  try  to check cat is present in spam vallues\n",
    "\n",
    "7. What is a shortcut for the following code?\n",
    "    if 'color' not in spam:\n",
    "        spam['color'] = 'black'\n",
    "    Ans==> spam['color'] = 'black'\n",
    "\n",
    "8. How do you \"pretty print\" dictionary values using which module and function?\n",
    "    Ans==> \n",
    "    \n",
    "    for subDict in my_dict:\n",
    "    print (subDict)\n",
    "    for values in my_dict[subDict]:\n",
    "        print (values, ':', my_dict[subDict][values])\n",
    "    \n"
   ]
  }
 ],
 "metadata": {
  "kernelspec": {
   "display_name": "Python 3",
   "language": "python",
   "name": "python3"
  },
  "language_info": {
   "codemirror_mode": {
    "name": "ipython",
    "version": 3
   },
   "file_extension": ".py",
   "mimetype": "text/x-python",
   "name": "python",
   "nbconvert_exporter": "python",
   "pygments_lexer": "ipython3",
   "version": "3.7.6"
  }
 },
 "nbformat": 4,
 "nbformat_minor": 4
}
