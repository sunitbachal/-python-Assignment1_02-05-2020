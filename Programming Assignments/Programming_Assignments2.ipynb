{
 "cells": [
  {
   "cell_type": "markdown",
   "metadata": {},
   "source": [
    "1. Write a Python program to convert kilometers to miles?\n",
    "2. Write a Python program to convert Celsius to Fahrenheit?\n",
    "3. Write a Python program to display calendar?\n",
    "4. Write a Python program to solve quadratic equation?\n",
    "5. Write a Python program to swap two variables without temp variable?"
   ]
  },
  {
   "cell_type": "code",
   "execution_count": 4,
   "metadata": {},
   "outputs": [
    {
     "name": "stdout",
     "output_type": "stream",
     "text": [
      "Enater Km value=2\n",
      "2 KM==> 1.24274 miles\n"
     ]
    }
   ],
   "source": [
    "#1 \n",
    "#kilometer is equal to 0.621371 miles (often shortened to .62).[1] 1 mile is equal to 1.609344 kilometers.\n",
    "#Thus, to convert kilometers to miles, simply multiply the number of kilometers by 0.62137.[2]\n",
    "\n",
    "km=input(\"Enater Km value=\")\n",
    "mile=0.62137 * float(km)\n",
    "print(\"{} KM==> {} miles\".format(km,mile))\n"
   ]
  },
  {
   "cell_type": "code",
   "execution_count": 7,
   "metadata": {},
   "outputs": [
    {
     "name": "stdout",
     "output_type": "stream",
     "text": [
      "Enter celsius value= 4\n",
      "4 °C==> 39.2 °F\n"
     ]
    }
   ],
   "source": [
    "#2\n",
    "#T(°F) = T(°C) × 1.8 + 32\n",
    "\n",
    "celsius=input(\"Enter celsius value= \")\n",
    "fahrenheit=float(celsius) * 1.8 + 32\n",
    "print(\"{} °C==> {} °F\".format(celsius,fahrenheit))\n",
    "\n",
    "\n"
   ]
  },
  {
   "cell_type": "code",
   "execution_count": 9,
   "metadata": {},
   "outputs": [
    {
     "name": "stdout",
     "output_type": "stream",
     "text": [
      "Enter year 2020\n",
      "Enter month 2\n",
      "   February 2020\n",
      "Mo Tu We Th Fr Sa Su\n",
      "                1  2\n",
      " 3  4  5  6  7  8  9\n",
      "10 11 12 13 14 15 16\n",
      "17 18 19 20 21 22 23\n",
      "24 25 26 27 28 29\n",
      "\n"
     ]
    }
   ],
   "source": [
    "#3\n",
    "import calendar\n",
    "year=input(\"Enter year \")\n",
    "month=input(\"Enter month \")\n",
    "\n",
    "print(calendar.month(int(year),int(month)))\n"
   ]
  },
  {
   "cell_type": "code",
   "execution_count": 11,
   "metadata": {},
   "outputs": [
    {
     "name": "stdout",
     "output_type": "stream",
     "text": [
      "value of a= 12\n",
      "value of b= 12\n",
      "value of c= 12\n",
      "The solution are (-0.5-0.8660254037844387j) and (-0.5+0.8660254037844387j)\n"
     ]
    }
   ],
   "source": [
    "#4\n",
    "#  Standard form of quadratic equation is –\n",
    "#  ax2 + bx + c \n",
    "#  x=\\frac{-b\\pm \\sqrt{b^2-4ac}}{2a}\n",
    "\n",
    "import cmath  \n",
    "\n",
    "a= float(input(\"value of a= \"))\n",
    "b= float(input(\"value of b= \"))\n",
    "c= float(input(\"value of c= \"))\n",
    "\n",
    "# calculate the discriminant  \n",
    "d = (b**2) - (4*a*c) # so value of x is\n",
    "\n",
    "#  two solutions  are as\n",
    "sol1 = (-b-cmath.sqrt(d))/(2*a)  \n",
    "sol2 = (-b+cmath.sqrt(d))/(2*a)  \n",
    "\n",
    "print('The solution are {0} and {1}'.format(sol1,sol2))"
   ]
  },
  {
   "cell_type": "code",
   "execution_count": 17,
   "metadata": {},
   "outputs": [
    {
     "name": "stdout",
     "output_type": "stream",
     "text": [
      " a= 6 and b= 3 \n"
     ]
    }
   ],
   "source": [
    "#5\n",
    "a=3\n",
    "b=6\n",
    "\n",
    "a=a+b\n",
    "b=a-b\n",
    "a=a-b\n",
    "\n",
    "print(\" a= {} and b= {} \".format(a,b))"
   ]
  },
  {
   "cell_type": "code",
   "execution_count": null,
   "metadata": {},
   "outputs": [],
   "source": []
  }
 ],
 "metadata": {
  "kernelspec": {
   "display_name": "Python 3",
   "language": "python",
   "name": "python3"
  },
  "language_info": {
   "codemirror_mode": {
    "name": "ipython",
    "version": 3
   },
   "file_extension": ".py",
   "mimetype": "text/x-python",
   "name": "python",
   "nbconvert_exporter": "python",
   "pygments_lexer": "ipython3",
   "version": "3.7.6"
  }
 },
 "nbformat": 4,
 "nbformat_minor": 4
}
