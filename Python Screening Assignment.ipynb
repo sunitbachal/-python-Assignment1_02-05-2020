{
 "cells": [
  {
   "cell_type": "raw",
   "id": "0b947d63",
   "metadata": {},
   "source": [
    "Assignment 1- Create a function in python to read the text file and replace specific content of the file\n"
   ]
  },
  {
   "cell_type": "code",
   "execution_count": 3,
   "id": "dde21787",
   "metadata": {},
   "outputs": [],
   "source": [
    "\n",
    "\n",
    "content = None\n",
    "\n",
    "with open('example.txt', 'r') as file :\n",
    "  content = file.read()\n",
    "\n",
    "content = content.replace('placement', 'screening')\n",
    "\n",
    "with open('example.txt', 'w') as file:\n",
    "  file.write(content)\n"
   ]
  },
  {
   "cell_type": "raw",
   "id": "bf8ee3c0",
   "metadata": {},
   "source": [
    "#Assignment 2- Demonstrate use of abstract class, multiple inheritance and decorator in\n",
    "#python using examples."
   ]
  },
  {
   "cell_type": "raw",
   "id": "dacaf8e2",
   "metadata": {},
   "source": [
    "An abstract class is the class which contains one or more abstract methods. An abstract method is the one which is just defined but not implemented.\n",
    "Use of Abstract Class=\n",
    "1. We can define a common Application Program Interface(API) for a set of subclasses\n",
    "2. Abstract base class make sure that derived classes implement methods and properties dictated in it.\n",
    "3. They help to avoid bugs and make the class hierarchies easier to maintain.\n"
   ]
  },
  {
   "cell_type": "code",
   "execution_count": 5,
   "id": "804ddcfe",
   "metadata": {},
   "outputs": [
    {
     "name": "stdout",
     "output_type": "stream",
     "text": [
      "Welcome to bank\n",
      "Balance is 100\n",
      "In sbi bank interest is 5 rupees\n"
     ]
    }
   ],
   "source": [
    "from abc import ABC, abstractmethod\n",
    "#Abstract Class\n",
    "class Bank(ABC):\n",
    "   def bank_info(self):\n",
    "       print(\"Welcome to bank\")\n",
    "   @abstractmethod\n",
    "   def interest(self):\n",
    "       \"Abstarct Method\"\n",
    "       pass\n",
    "#Sub class/ child class of abstract class\n",
    "class SBI(Bank):\n",
    "   def balance(self):\n",
    "       print(\"Balance is 100\")\n",
    "class Sub1(SBI):\n",
    "   def interest(self):\n",
    "       print(\"In sbi bank interest is 5 rupees\")\n",
    "s= Sub1()\n",
    "s.bank_info ()\n",
    "s.balance()\n",
    "s.interest()"
   ]
  },
  {
   "cell_type": "raw",
   "id": "3795b9f6",
   "metadata": {},
   "source": [
    "Uses of Multiple inheritance in Python\n",
    "1.It allows a class to inherit the functionality of more than one base class; thus allowing for modeling of complex relationship\n",
    "2.By having multiple superclasses, your subclass has more opportunities to reuse the inherited attributes\n",
    "3. Application development time is less and application takes less memory.\n",
    "\n"
   ]
  },
  {
   "cell_type": "code",
   "execution_count": 6,
   "id": "49298569",
   "metadata": {},
   "outputs": [
    {
     "name": "stdout",
     "output_type": "stream",
     "text": [
      "In Class2\n"
     ]
    }
   ],
   "source": [
    "class Class1:\n",
    "    def m(self):\n",
    "        print(\"In Class1\")\n",
    "       \n",
    "class Class2(Class1):\n",
    "    def m(self):\n",
    "        print(\"In Class2\")\n",
    " \n",
    "class Class3(Class1):\n",
    "    def m(self):\n",
    "        print(\"In Class3\") \n",
    "        \n",
    "class Class4(Class2, Class3):\n",
    "    pass  \n",
    "     \n",
    "obj = Class4()\n",
    "obj.m()"
   ]
  },
  {
   "cell_type": "raw",
   "id": "bd1212b7",
   "metadata": {},
   "source": [
    "*Uses of decorator in python\n",
    "1. Decorators are used to modify the behaviour of function or class. \n",
    "2. Here the functions are taken as the argument into another function and then called inside the wrapper function.\n"
   ]
  },
  {
   "cell_type": "code",
   "execution_count": 9,
   "id": "07625a2d",
   "metadata": {},
   "outputs": [
    {
     "name": "stdout",
     "output_type": "stream",
     "text": [
      "Add the 2 numbers  2 and 5\n",
      "7\n"
     ]
    }
   ],
   "source": [
    "def check_addition(func):\n",
    "    def addMethod(a, b):\n",
    "        print(\"Add the 2 numbers \", a, \"and\", b)\n",
    "        return func(a, b)\n",
    "    return addMethod\n",
    "\n",
    "\n",
    "@check_addition\n",
    "def add(a, b):\n",
    "    print(a+b)\n",
    "    \n",
    "add(2,5)"
   ]
  },
  {
   "cell_type": "code",
   "execution_count": null,
   "id": "db380fc0",
   "metadata": {},
   "outputs": [],
   "source": []
  },
  {
   "cell_type": "code",
   "execution_count": null,
   "id": "35ff237b",
   "metadata": {},
   "outputs": [],
   "source": []
  }
 ],
 "metadata": {
  "kernelspec": {
   "display_name": "Python 3",
   "language": "python",
   "name": "python3"
  },
  "language_info": {
   "codemirror_mode": {
    "name": "ipython",
    "version": 3
   },
   "file_extension": ".py",
   "mimetype": "text/x-python",
   "name": "python",
   "nbconvert_exporter": "python",
   "pygments_lexer": "ipython3",
   "version": "3.8.8"
  }
 },
 "nbformat": 4,
 "nbformat_minor": 5
}
